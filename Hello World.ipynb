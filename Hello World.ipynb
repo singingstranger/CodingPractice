{
 "cells": [
  {
   "cell_type": "code",
   "execution_count": 28,
   "id": "d2c17f57",
   "metadata": {
    "scrolled": false
   },
   "outputs": [],
   "source": [
    "import pandas as pd\n",
    "from sklearn import tree\n",
    "from sklearn.tree import DecisionTreeClassifier\n",
    "from sklearn.model_selection import train_test_split\n",
    "from sklearn.metrics import accuracy_score\n",
    "import joblib as jl\n",
    "\n",
    "musicData = pd.read_csv('music.csv')\n",
    "X = musicData.drop(columns = ['genre'])\n",
    "y = musicData['genre']\n",
    "\n",
    "model = DecisionTreeClassifier()\n",
    "model.fit(X.values,y.values)\n",
    "\n",
    "tree.export_graphviz(model, out_file = 'music_recommender.dot',feature_names = ['age', 'gender'],class_names = sorted(y.unique()), label='all',rounded = True, filled = True)"
   ]
  },
  {
   "cell_type": "code",
   "execution_count": null,
   "id": "4e54f15c",
   "metadata": {},
   "outputs": [],
   "source": []
  }
 ],
 "metadata": {
  "kernelspec": {
   "display_name": "Python 3 (ipykernel)",
   "language": "python",
   "name": "python3"
  },
  "language_info": {
   "codemirror_mode": {
    "name": "ipython",
    "version": 3
   },
   "file_extension": ".py",
   "mimetype": "text/x-python",
   "name": "python",
   "nbconvert_exporter": "python",
   "pygments_lexer": "ipython3",
   "version": "3.11.4"
  }
 },
 "nbformat": 4,
 "nbformat_minor": 5
}
